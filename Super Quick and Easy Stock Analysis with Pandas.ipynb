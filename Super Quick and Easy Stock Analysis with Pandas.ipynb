{
 "cells": [
  {
   "cell_type": "code",
   "execution_count": 1,
   "metadata": {},
   "outputs": [],
   "source": [
    "# import required libraries\n",
    "import pandas_datareader.data as web\n",
    "import pandas as pd\n",
    "%matplotlib inline\n",
    "import matplotlib.pyplot as plt\n",
    "import seaborn as sns\n",
    "sns.set_style('whitegrid')"
   ]
  },
  {
   "cell_type": "code",
   "execution_count": 2,
   "metadata": {},
   "outputs": [],
   "source": [
    "# load stock price data\n",
    "data = web.DataReader('NFLX', 'yahoo')"
   ]
  },
  {
   "cell_type": "code",
   "execution_count": 3,
   "metadata": {},
   "outputs": [
    {
     "data": {
      "text/html": [
       "<div>\n",
       "<style scoped>\n",
       "    .dataframe tbody tr th:only-of-type {\n",
       "        vertical-align: middle;\n",
       "    }\n",
       "\n",
       "    .dataframe tbody tr th {\n",
       "        vertical-align: top;\n",
       "    }\n",
       "\n",
       "    .dataframe thead th {\n",
       "        text-align: right;\n",
       "    }\n",
       "</style>\n",
       "<table border=\"1\" class=\"dataframe\">\n",
       "  <thead>\n",
       "    <tr style=\"text-align: right;\">\n",
       "      <th></th>\n",
       "      <th>High</th>\n",
       "      <th>Low</th>\n",
       "      <th>Open</th>\n",
       "      <th>Close</th>\n",
       "      <th>Volume</th>\n",
       "      <th>Adj Close</th>\n",
       "    </tr>\n",
       "    <tr>\n",
       "      <th>Date</th>\n",
       "      <th></th>\n",
       "      <th></th>\n",
       "      <th></th>\n",
       "      <th></th>\n",
       "      <th></th>\n",
       "      <th></th>\n",
       "    </tr>\n",
       "  </thead>\n",
       "  <tbody>\n",
       "    <tr>\n",
       "      <th>2020-08-20</th>\n",
       "      <td>498.940002</td>\n",
       "      <td>483.890015</td>\n",
       "      <td>484.690002</td>\n",
       "      <td>497.899994</td>\n",
       "      <td>5132500</td>\n",
       "      <td>497.899994</td>\n",
       "    </tr>\n",
       "    <tr>\n",
       "      <th>2020-08-21</th>\n",
       "      <td>498.130005</td>\n",
       "      <td>490.000000</td>\n",
       "      <td>496.459991</td>\n",
       "      <td>492.309998</td>\n",
       "      <td>3921300</td>\n",
       "      <td>492.309998</td>\n",
       "    </tr>\n",
       "    <tr>\n",
       "      <th>2020-08-24</th>\n",
       "      <td>501.000000</td>\n",
       "      <td>483.160004</td>\n",
       "      <td>495.440002</td>\n",
       "      <td>488.809998</td>\n",
       "      <td>4762200</td>\n",
       "      <td>488.809998</td>\n",
       "    </tr>\n",
       "    <tr>\n",
       "      <th>2020-08-25</th>\n",
       "      <td>492.470001</td>\n",
       "      <td>485.089996</td>\n",
       "      <td>488.190002</td>\n",
       "      <td>490.579987</td>\n",
       "      <td>5722500</td>\n",
       "      <td>490.579987</td>\n",
       "    </tr>\n",
       "    <tr>\n",
       "      <th>2020-08-26</th>\n",
       "      <td>549.000000</td>\n",
       "      <td>492.075012</td>\n",
       "      <td>492.500000</td>\n",
       "      <td>547.530029</td>\n",
       "      <td>19980811</td>\n",
       "      <td>547.530029</td>\n",
       "    </tr>\n",
       "  </tbody>\n",
       "</table>\n",
       "</div>"
      ],
      "text/plain": [
       "                  High         Low        Open       Close    Volume  \\\n",
       "Date                                                                   \n",
       "2020-08-20  498.940002  483.890015  484.690002  497.899994   5132500   \n",
       "2020-08-21  498.130005  490.000000  496.459991  492.309998   3921300   \n",
       "2020-08-24  501.000000  483.160004  495.440002  488.809998   4762200   \n",
       "2020-08-25  492.470001  485.089996  488.190002  490.579987   5722500   \n",
       "2020-08-26  549.000000  492.075012  492.500000  547.530029  19980811   \n",
       "\n",
       "             Adj Close  \n",
       "Date                    \n",
       "2020-08-20  497.899994  \n",
       "2020-08-21  492.309998  \n",
       "2020-08-24  488.809998  \n",
       "2020-08-25  490.579987  \n",
       "2020-08-26  547.530029  "
      ]
     },
     "execution_count": 3,
     "metadata": {},
     "output_type": "execute_result"
    }
   ],
   "source": [
    "data.tail()"
   ]
  },
  {
   "cell_type": "code",
   "execution_count": 4,
   "metadata": {},
   "outputs": [],
   "source": [
    "# change display options\n",
    "pd.set_option(\"display.precision\", 3)"
   ]
  },
  {
   "cell_type": "code",
   "execution_count": 5,
   "metadata": {},
   "outputs": [
    {
     "data": {
      "text/html": [
       "<div>\n",
       "<style scoped>\n",
       "    .dataframe tbody tr th:only-of-type {\n",
       "        vertical-align: middle;\n",
       "    }\n",
       "\n",
       "    .dataframe tbody tr th {\n",
       "        vertical-align: top;\n",
       "    }\n",
       "\n",
       "    .dataframe thead th {\n",
       "        text-align: right;\n",
       "    }\n",
       "</style>\n",
       "<table border=\"1\" class=\"dataframe\">\n",
       "  <thead>\n",
       "    <tr style=\"text-align: right;\">\n",
       "      <th></th>\n",
       "      <th>High</th>\n",
       "      <th>Low</th>\n",
       "      <th>Open</th>\n",
       "      <th>Close</th>\n",
       "      <th>Volume</th>\n",
       "      <th>Adj Close</th>\n",
       "    </tr>\n",
       "    <tr>\n",
       "      <th>Date</th>\n",
       "      <th></th>\n",
       "      <th></th>\n",
       "      <th></th>\n",
       "      <th></th>\n",
       "      <th></th>\n",
       "      <th></th>\n",
       "    </tr>\n",
       "  </thead>\n",
       "  <tbody>\n",
       "    <tr>\n",
       "      <th>2020-08-20</th>\n",
       "      <td>498.94</td>\n",
       "      <td>483.890</td>\n",
       "      <td>484.69</td>\n",
       "      <td>497.90</td>\n",
       "      <td>5132500</td>\n",
       "      <td>497.90</td>\n",
       "    </tr>\n",
       "    <tr>\n",
       "      <th>2020-08-21</th>\n",
       "      <td>498.13</td>\n",
       "      <td>490.000</td>\n",
       "      <td>496.46</td>\n",
       "      <td>492.31</td>\n",
       "      <td>3921300</td>\n",
       "      <td>492.31</td>\n",
       "    </tr>\n",
       "    <tr>\n",
       "      <th>2020-08-24</th>\n",
       "      <td>501.00</td>\n",
       "      <td>483.160</td>\n",
       "      <td>495.44</td>\n",
       "      <td>488.81</td>\n",
       "      <td>4762200</td>\n",
       "      <td>488.81</td>\n",
       "    </tr>\n",
       "    <tr>\n",
       "      <th>2020-08-25</th>\n",
       "      <td>492.47</td>\n",
       "      <td>485.090</td>\n",
       "      <td>488.19</td>\n",
       "      <td>490.58</td>\n",
       "      <td>5722500</td>\n",
       "      <td>490.58</td>\n",
       "    </tr>\n",
       "    <tr>\n",
       "      <th>2020-08-26</th>\n",
       "      <td>549.00</td>\n",
       "      <td>492.075</td>\n",
       "      <td>492.50</td>\n",
       "      <td>547.53</td>\n",
       "      <td>19980811</td>\n",
       "      <td>547.53</td>\n",
       "    </tr>\n",
       "  </tbody>\n",
       "</table>\n",
       "</div>"
      ],
      "text/plain": [
       "              High      Low    Open   Close    Volume  Adj Close\n",
       "Date                                                            \n",
       "2020-08-20  498.94  483.890  484.69  497.90   5132500     497.90\n",
       "2020-08-21  498.13  490.000  496.46  492.31   3921300     492.31\n",
       "2020-08-24  501.00  483.160  495.44  488.81   4762200     488.81\n",
       "2020-08-25  492.47  485.090  488.19  490.58   5722500     490.58\n",
       "2020-08-26  549.00  492.075  492.50  547.53  19980811     547.53"
      ]
     },
     "execution_count": 5,
     "metadata": {},
     "output_type": "execute_result"
    }
   ],
   "source": [
    "data.tail()"
   ]
  },
  {
   "cell_type": "code",
   "execution_count": 6,
   "metadata": {},
   "outputs": [],
   "source": [
    "# to load multiple stocks\n",
    "sample = web.DataReader(['AAPL', 'MSFT', 'NFLX'],\n",
    "                        'yahoo')"
   ]
  },
  {
   "cell_type": "code",
   "execution_count": 7,
   "metadata": {},
   "outputs": [
    {
     "data": {
      "text/html": [
       "<div>\n",
       "<style scoped>\n",
       "    .dataframe tbody tr th:only-of-type {\n",
       "        vertical-align: middle;\n",
       "    }\n",
       "\n",
       "    .dataframe tbody tr th {\n",
       "        vertical-align: top;\n",
       "    }\n",
       "\n",
       "    .dataframe thead tr th {\n",
       "        text-align: left;\n",
       "    }\n",
       "\n",
       "    .dataframe thead tr:last-of-type th {\n",
       "        text-align: right;\n",
       "    }\n",
       "</style>\n",
       "<table border=\"1\" class=\"dataframe\">\n",
       "  <thead>\n",
       "    <tr>\n",
       "      <th>Attributes</th>\n",
       "      <th colspan=\"3\" halign=\"left\">Adj Close</th>\n",
       "      <th colspan=\"3\" halign=\"left\">Close</th>\n",
       "      <th colspan=\"3\" halign=\"left\">High</th>\n",
       "      <th colspan=\"3\" halign=\"left\">Low</th>\n",
       "      <th colspan=\"3\" halign=\"left\">Open</th>\n",
       "      <th colspan=\"3\" halign=\"left\">Volume</th>\n",
       "    </tr>\n",
       "    <tr>\n",
       "      <th>Symbols</th>\n",
       "      <th>AAPL</th>\n",
       "      <th>MSFT</th>\n",
       "      <th>NFLX</th>\n",
       "      <th>AAPL</th>\n",
       "      <th>MSFT</th>\n",
       "      <th>NFLX</th>\n",
       "      <th>AAPL</th>\n",
       "      <th>MSFT</th>\n",
       "      <th>NFLX</th>\n",
       "      <th>AAPL</th>\n",
       "      <th>MSFT</th>\n",
       "      <th>NFLX</th>\n",
       "      <th>AAPL</th>\n",
       "      <th>MSFT</th>\n",
       "      <th>NFLX</th>\n",
       "      <th>AAPL</th>\n",
       "      <th>MSFT</th>\n",
       "      <th>NFLX</th>\n",
       "    </tr>\n",
       "    <tr>\n",
       "      <th>Date</th>\n",
       "      <th></th>\n",
       "      <th></th>\n",
       "      <th></th>\n",
       "      <th></th>\n",
       "      <th></th>\n",
       "      <th></th>\n",
       "      <th></th>\n",
       "      <th></th>\n",
       "      <th></th>\n",
       "      <th></th>\n",
       "      <th></th>\n",
       "      <th></th>\n",
       "      <th></th>\n",
       "      <th></th>\n",
       "      <th></th>\n",
       "      <th></th>\n",
       "      <th></th>\n",
       "      <th></th>\n",
       "    </tr>\n",
       "  </thead>\n",
       "  <tbody>\n",
       "    <tr>\n",
       "      <th>2020-08-20</th>\n",
       "      <td>473.10</td>\n",
       "      <td>214.58</td>\n",
       "      <td>497.90</td>\n",
       "      <td>473.10</td>\n",
       "      <td>214.58</td>\n",
       "      <td>497.90</td>\n",
       "      <td>473.57</td>\n",
       "      <td>215.00</td>\n",
       "      <td>498.94</td>\n",
       "      <td>462.93</td>\n",
       "      <td>208.91</td>\n",
       "      <td>483.890</td>\n",
       "      <td>463.000</td>\n",
       "      <td>209.54</td>\n",
       "      <td>484.69</td>\n",
       "      <td>3.173e+07</td>\n",
       "      <td>2.698e+07</td>\n",
       "      <td>5.132e+06</td>\n",
       "    </tr>\n",
       "    <tr>\n",
       "      <th>2020-08-21</th>\n",
       "      <td>497.48</td>\n",
       "      <td>213.02</td>\n",
       "      <td>492.31</td>\n",
       "      <td>497.48</td>\n",
       "      <td>213.02</td>\n",
       "      <td>492.31</td>\n",
       "      <td>499.47</td>\n",
       "      <td>216.25</td>\n",
       "      <td>498.13</td>\n",
       "      <td>477.00</td>\n",
       "      <td>212.85</td>\n",
       "      <td>490.000</td>\n",
       "      <td>477.050</td>\n",
       "      <td>213.86</td>\n",
       "      <td>496.46</td>\n",
       "      <td>8.451e+07</td>\n",
       "      <td>3.625e+07</td>\n",
       "      <td>3.921e+06</td>\n",
       "    </tr>\n",
       "    <tr>\n",
       "      <th>2020-08-24</th>\n",
       "      <td>503.43</td>\n",
       "      <td>213.69</td>\n",
       "      <td>488.81</td>\n",
       "      <td>503.43</td>\n",
       "      <td>213.69</td>\n",
       "      <td>488.81</td>\n",
       "      <td>515.14</td>\n",
       "      <td>215.52</td>\n",
       "      <td>501.00</td>\n",
       "      <td>495.75</td>\n",
       "      <td>212.43</td>\n",
       "      <td>483.160</td>\n",
       "      <td>514.790</td>\n",
       "      <td>214.79</td>\n",
       "      <td>495.44</td>\n",
       "      <td>8.648e+07</td>\n",
       "      <td>2.546e+07</td>\n",
       "      <td>4.762e+06</td>\n",
       "    </tr>\n",
       "    <tr>\n",
       "      <th>2020-08-25</th>\n",
       "      <td>499.30</td>\n",
       "      <td>216.47</td>\n",
       "      <td>490.58</td>\n",
       "      <td>499.30</td>\n",
       "      <td>216.47</td>\n",
       "      <td>490.58</td>\n",
       "      <td>500.72</td>\n",
       "      <td>216.61</td>\n",
       "      <td>492.47</td>\n",
       "      <td>492.21</td>\n",
       "      <td>213.10</td>\n",
       "      <td>485.090</td>\n",
       "      <td>498.790</td>\n",
       "      <td>213.10</td>\n",
       "      <td>488.19</td>\n",
       "      <td>5.278e+07</td>\n",
       "      <td>2.300e+07</td>\n",
       "      <td>5.722e+06</td>\n",
       "    </tr>\n",
       "    <tr>\n",
       "      <th>2020-08-26</th>\n",
       "      <td>506.09</td>\n",
       "      <td>221.15</td>\n",
       "      <td>547.53</td>\n",
       "      <td>506.09</td>\n",
       "      <td>221.15</td>\n",
       "      <td>547.53</td>\n",
       "      <td>507.97</td>\n",
       "      <td>222.09</td>\n",
       "      <td>549.00</td>\n",
       "      <td>500.33</td>\n",
       "      <td>217.36</td>\n",
       "      <td>492.075</td>\n",
       "      <td>504.716</td>\n",
       "      <td>217.88</td>\n",
       "      <td>492.50</td>\n",
       "      <td>4.076e+07</td>\n",
       "      <td>3.960e+07</td>\n",
       "      <td>1.998e+07</td>\n",
       "    </tr>\n",
       "  </tbody>\n",
       "</table>\n",
       "</div>"
      ],
      "text/plain": [
       "Attributes Adj Close                   Close                    High          \\\n",
       "Symbols         AAPL    MSFT    NFLX    AAPL    MSFT    NFLX    AAPL    MSFT   \n",
       "Date                                                                           \n",
       "2020-08-20    473.10  214.58  497.90  473.10  214.58  497.90  473.57  215.00   \n",
       "2020-08-21    497.48  213.02  492.31  497.48  213.02  492.31  499.47  216.25   \n",
       "2020-08-24    503.43  213.69  488.81  503.43  213.69  488.81  515.14  215.52   \n",
       "2020-08-25    499.30  216.47  490.58  499.30  216.47  490.58  500.72  216.61   \n",
       "2020-08-26    506.09  221.15  547.53  506.09  221.15  547.53  507.97  222.09   \n",
       "\n",
       "Attributes             Low                      Open                  \\\n",
       "Symbols       NFLX    AAPL    MSFT     NFLX     AAPL    MSFT    NFLX   \n",
       "Date                                                                   \n",
       "2020-08-20  498.94  462.93  208.91  483.890  463.000  209.54  484.69   \n",
       "2020-08-21  498.13  477.00  212.85  490.000  477.050  213.86  496.46   \n",
       "2020-08-24  501.00  495.75  212.43  483.160  514.790  214.79  495.44   \n",
       "2020-08-25  492.47  492.21  213.10  485.090  498.790  213.10  488.19   \n",
       "2020-08-26  549.00  500.33  217.36  492.075  504.716  217.88  492.50   \n",
       "\n",
       "Attributes     Volume                        \n",
       "Symbols          AAPL       MSFT       NFLX  \n",
       "Date                                         \n",
       "2020-08-20  3.173e+07  2.698e+07  5.132e+06  \n",
       "2020-08-21  8.451e+07  3.625e+07  3.921e+06  \n",
       "2020-08-24  8.648e+07  2.546e+07  4.762e+06  \n",
       "2020-08-25  5.278e+07  2.300e+07  5.722e+06  \n",
       "2020-08-26  4.076e+07  3.960e+07  1.998e+07  "
      ]
     },
     "execution_count": 7,
     "metadata": {},
     "output_type": "execute_result"
    }
   ],
   "source": [
    "sample.tail()"
   ]
  },
  {
   "cell_type": "code",
   "execution_count": 8,
   "metadata": {},
   "outputs": [],
   "source": [
    "# get weekly close prices\n",
    "close_weekly = data.resample('W')['Close']"
   ]
  },
  {
   "cell_type": "code",
   "execution_count": 9,
   "metadata": {},
   "outputs": [
    {
     "data": {
      "text/plain": [
       "Date\n",
       "2015-08-30    117.630\n",
       "2015-09-06    105.222\n",
       "2015-09-13     97.780\n",
       "2015-09-20    101.152\n",
       "2015-09-27    100.568\n",
       "2015-10-04    102.634\n",
       "2015-10-11    111.188\n",
       "2015-10-18    106.698\n",
       "2015-10-25     99.200\n",
       "2015-11-01    105.082\n",
       "Freq: W-SUN, Name: Close, dtype: float64"
      ]
     },
     "execution_count": 9,
     "metadata": {},
     "output_type": "execute_result"
    }
   ],
   "source": [
    "close_weekly.mean()[:10]"
   ]
  },
  {
   "cell_type": "code",
   "execution_count": 10,
   "metadata": {},
   "outputs": [
    {
     "data": {
      "text/plain": [
       "<matplotlib.axes._subplots.AxesSubplot at 0x209da33bf28>"
      ]
     },
     "execution_count": 10,
     "metadata": {},
     "output_type": "execute_result"
    },
    {
     "data": {
      "image/png": "[encoded data removed]",
      "text/plain": [
       "<Figure size 432x288 with 1 Axes>"
      ]
     },
     "metadata": {
      "needs_background": "light"
     },
     "output_type": "display_data"
    }
   ],
   "source": [
    "# plot weekly average close prices \n",
    "close_weekly.mean().plot()"
   ]
  },
  {
   "cell_type": "code",
   "execution_count": 11,
   "metadata": {},
   "outputs": [],
   "source": [
    "# get quarterly close prices\n",
    "close_quarterly = data.resample('Q-JUN')['Close']"
   ]
  },
  {
   "cell_type": "code",
   "execution_count": 12,
   "metadata": {},
   "outputs": [
    {
     "data": {
      "image/png": "[encoded data removed]",
      "text/plain": [
       "<Figure size 432x288 with 1 Axes>"
      ]
     },
     "metadata": {
      "needs_background": "light"
     },
     "output_type": "display_data"
    }
   ],
   "source": [
    "# now plot close prices by quarter\n",
    "close_quarterly.mean().plot(c='r')\n",
    "plt.ylabel('Close Price');"
   ]
  },
  {
   "cell_type": "code",
   "execution_count": 13,
   "metadata": {},
   "outputs": [
    {
     "data": {
      "text/plain": [
       "<matplotlib.axes._subplots.AxesSubplot at 0x209da0fa4a8>"
      ]
     },
     "execution_count": 13,
     "metadata": {},
     "output_type": "execute_result"
    },
    {
     "data": {
      "image/png": "[encoded data removed]",
      "text/plain": [
       "<Figure size 432x288 with 1 Axes>"
      ]
     },
     "metadata": {
      "needs_background": "light"
     },
     "output_type": "display_data"
    }
   ],
   "source": [
    "# now plot daily prices \n",
    "data.resample('D').ffill()['Close'].plot()"
   ]
  },
  {
   "cell_type": "code",
   "execution_count": 14,
   "metadata": {},
   "outputs": [
    {
     "data": {
      "text/html": [
       "<div>\n",
       "<style scoped>\n",
       "    .dataframe tbody tr th:only-of-type {\n",
       "        vertical-align: middle;\n",
       "    }\n",
       "\n",
       "    .dataframe tbody tr th {\n",
       "        vertical-align: top;\n",
       "    }\n",
       "\n",
       "    .dataframe thead th {\n",
       "        text-align: right;\n",
       "    }\n",
       "</style>\n",
       "<table border=\"1\" class=\"dataframe\">\n",
       "  <thead>\n",
       "    <tr style=\"text-align: right;\">\n",
       "      <th></th>\n",
       "      <th>High</th>\n",
       "      <th>Low</th>\n",
       "      <th>Open</th>\n",
       "      <th>Close</th>\n",
       "      <th>Volume</th>\n",
       "      <th>Adj Close</th>\n",
       "    </tr>\n",
       "    <tr>\n",
       "      <th>Date</th>\n",
       "      <th></th>\n",
       "      <th></th>\n",
       "      <th></th>\n",
       "      <th></th>\n",
       "      <th></th>\n",
       "      <th></th>\n",
       "    </tr>\n",
       "  </thead>\n",
       "  <tbody>\n",
       "    <tr>\n",
       "      <th>2020-08-18</th>\n",
       "      <td>495.30</td>\n",
       "      <td>482.800</td>\n",
       "      <td>484.35</td>\n",
       "      <td>491.87</td>\n",
       "      <td>3505500</td>\n",
       "      <td>491.87</td>\n",
       "    </tr>\n",
       "    <tr>\n",
       "      <th>2020-08-19</th>\n",
       "      <td>494.50</td>\n",
       "      <td>483.500</td>\n",
       "      <td>493.93</td>\n",
       "      <td>484.53</td>\n",
       "      <td>3156200</td>\n",
       "      <td>484.53</td>\n",
       "    </tr>\n",
       "    <tr>\n",
       "      <th>2020-08-20</th>\n",
       "      <td>498.94</td>\n",
       "      <td>483.890</td>\n",
       "      <td>484.69</td>\n",
       "      <td>497.90</td>\n",
       "      <td>5132500</td>\n",
       "      <td>497.90</td>\n",
       "    </tr>\n",
       "    <tr>\n",
       "      <th>2020-08-21</th>\n",
       "      <td>498.13</td>\n",
       "      <td>490.000</td>\n",
       "      <td>496.46</td>\n",
       "      <td>492.31</td>\n",
       "      <td>3921300</td>\n",
       "      <td>492.31</td>\n",
       "    </tr>\n",
       "    <tr>\n",
       "      <th>2020-08-24</th>\n",
       "      <td>501.00</td>\n",
       "      <td>483.160</td>\n",
       "      <td>495.44</td>\n",
       "      <td>488.81</td>\n",
       "      <td>4762200</td>\n",
       "      <td>488.81</td>\n",
       "    </tr>\n",
       "    <tr>\n",
       "      <th>2020-08-25</th>\n",
       "      <td>492.47</td>\n",
       "      <td>485.090</td>\n",
       "      <td>488.19</td>\n",
       "      <td>490.58</td>\n",
       "      <td>5722500</td>\n",
       "      <td>490.58</td>\n",
       "    </tr>\n",
       "    <tr>\n",
       "      <th>2020-08-26</th>\n",
       "      <td>549.00</td>\n",
       "      <td>492.075</td>\n",
       "      <td>492.50</td>\n",
       "      <td>547.53</td>\n",
       "      <td>19980811</td>\n",
       "      <td>547.53</td>\n",
       "    </tr>\n",
       "  </tbody>\n",
       "</table>\n",
       "</div>"
      ],
      "text/plain": [
       "              High      Low    Open   Close    Volume  Adj Close\n",
       "Date                                                            \n",
       "2020-08-18  495.30  482.800  484.35  491.87   3505500     491.87\n",
       "2020-08-19  494.50  483.500  493.93  484.53   3156200     484.53\n",
       "2020-08-20  498.94  483.890  484.69  497.90   5132500     497.90\n",
       "2020-08-21  498.13  490.000  496.46  492.31   3921300     492.31\n",
       "2020-08-24  501.00  483.160  495.44  488.81   4762200     488.81\n",
       "2020-08-25  492.47  485.090  488.19  490.58   5722500     490.58\n",
       "2020-08-26  549.00  492.075  492.50  547.53  19980811     547.53"
      ]
     },
     "execution_count": 14,
     "metadata": {},
     "output_type": "execute_result"
    }
   ],
   "source": [
    "data[-7:]"
   ]
  },
  {
   "cell_type": "code",
   "execution_count": 15,
   "metadata": {},
   "outputs": [
    {
     "data": {
      "text/html": [
       "<div>\n",
       "<style scoped>\n",
       "    .dataframe tbody tr th:only-of-type {\n",
       "        vertical-align: middle;\n",
       "    }\n",
       "\n",
       "    .dataframe tbody tr th {\n",
       "        vertical-align: top;\n",
       "    }\n",
       "\n",
       "    .dataframe thead th {\n",
       "        text-align: right;\n",
       "    }\n",
       "</style>\n",
       "<table border=\"1\" class=\"dataframe\">\n",
       "  <thead>\n",
       "    <tr style=\"text-align: right;\">\n",
       "      <th></th>\n",
       "      <th>High</th>\n",
       "      <th>Low</th>\n",
       "      <th>Open</th>\n",
       "      <th>Close</th>\n",
       "      <th>Volume</th>\n",
       "      <th>Adj Close</th>\n",
       "    </tr>\n",
       "    <tr>\n",
       "      <th>Date</th>\n",
       "      <th></th>\n",
       "      <th></th>\n",
       "      <th></th>\n",
       "      <th></th>\n",
       "      <th></th>\n",
       "      <th></th>\n",
       "    </tr>\n",
       "  </thead>\n",
       "  <tbody>\n",
       "    <tr>\n",
       "      <th>2020-08-20</th>\n",
       "      <td>498.94</td>\n",
       "      <td>483.890</td>\n",
       "      <td>484.69</td>\n",
       "      <td>497.90</td>\n",
       "      <td>5132500</td>\n",
       "      <td>497.90</td>\n",
       "    </tr>\n",
       "    <tr>\n",
       "      <th>2020-08-21</th>\n",
       "      <td>498.13</td>\n",
       "      <td>490.000</td>\n",
       "      <td>496.46</td>\n",
       "      <td>492.31</td>\n",
       "      <td>3921300</td>\n",
       "      <td>492.31</td>\n",
       "    </tr>\n",
       "    <tr>\n",
       "      <th>2020-08-22</th>\n",
       "      <td>498.13</td>\n",
       "      <td>490.000</td>\n",
       "      <td>496.46</td>\n",
       "      <td>492.31</td>\n",
       "      <td>3921300</td>\n",
       "      <td>492.31</td>\n",
       "    </tr>\n",
       "    <tr>\n",
       "      <th>2020-08-23</th>\n",
       "      <td>498.13</td>\n",
       "      <td>490.000</td>\n",
       "      <td>496.46</td>\n",
       "      <td>492.31</td>\n",
       "      <td>3921300</td>\n",
       "      <td>492.31</td>\n",
       "    </tr>\n",
       "    <tr>\n",
       "      <th>2020-08-24</th>\n",
       "      <td>501.00</td>\n",
       "      <td>483.160</td>\n",
       "      <td>495.44</td>\n",
       "      <td>488.81</td>\n",
       "      <td>4762200</td>\n",
       "      <td>488.81</td>\n",
       "    </tr>\n",
       "    <tr>\n",
       "      <th>2020-08-25</th>\n",
       "      <td>492.47</td>\n",
       "      <td>485.090</td>\n",
       "      <td>488.19</td>\n",
       "      <td>490.58</td>\n",
       "      <td>5722500</td>\n",
       "      <td>490.58</td>\n",
       "    </tr>\n",
       "    <tr>\n",
       "      <th>2020-08-26</th>\n",
       "      <td>549.00</td>\n",
       "      <td>492.075</td>\n",
       "      <td>492.50</td>\n",
       "      <td>547.53</td>\n",
       "      <td>19980811</td>\n",
       "      <td>547.53</td>\n",
       "    </tr>\n",
       "  </tbody>\n",
       "</table>\n",
       "</div>"
      ],
      "text/plain": [
       "              High      Low    Open   Close    Volume  Adj Close\n",
       "Date                                                            \n",
       "2020-08-20  498.94  483.890  484.69  497.90   5132500     497.90\n",
       "2020-08-21  498.13  490.000  496.46  492.31   3921300     492.31\n",
       "2020-08-22  498.13  490.000  496.46  492.31   3921300     492.31\n",
       "2020-08-23  498.13  490.000  496.46  492.31   3921300     492.31\n",
       "2020-08-24  501.00  483.160  495.44  488.81   4762200     488.81\n",
       "2020-08-25  492.47  485.090  488.19  490.58   5722500     490.58\n",
       "2020-08-26  549.00  492.075  492.50  547.53  19980811     547.53"
      ]
     },
     "execution_count": 15,
     "metadata": {},
     "output_type": "execute_result"
    }
   ],
   "source": [
    "# to fill missing dates over weekends use forward fill\n",
    "data.resample('D').ffill()[-7:]"
   ]
  },
  {
   "cell_type": "code",
   "execution_count": 16,
   "metadata": {},
   "outputs": [],
   "source": [
    "# compare daily prices to moving average\n",
    "close_daily = data.resample('D').ffill()['Close']\n",
    "daily_moving_avg = close_daily.rolling(window=50).mean()"
   ]
  },
  {
   "cell_type": "code",
   "execution_count": 17,
   "metadata": {},
   "outputs": [
    {
     "data": {
      "image/png": "[encoded data removed]",
      "text/plain": [
       "<Figure size 432x288 with 1 Axes>"
      ]
     },
     "metadata": {
      "needs_background": "light"
     },
     "output_type": "display_data"
    }
   ],
   "source": [
    "close_daily.plot()\n",
    "daily_moving_avg.plot()\n",
    "plt.ylabel('Price');"
   ]
  },
  {
   "cell_type": "code",
   "execution_count": 18,
   "metadata": {},
   "outputs": [
    {
     "data": {
      "image/png": "[encoded data removed]",
      "text/plain": [
       "<Figure size 432x288 with 1 Axes>"
      ]
     },
     "metadata": {
      "needs_background": "light"
     },
     "output_type": "display_data"
    }
   ],
   "source": [
    "# only get prices for 2020\n",
    "close_daily_yoy = close_daily.loc['2019':'2020']\n",
    "close_daily_yoy_ma = close_daily_yoy.rolling(45).mean()\n",
    "\n",
    "# plot Year-over-year close prices \n",
    "close_daily_yoy.plot()\n",
    "close_daily_yoy_ma.plot();"
   ]
  },
  {
   "cell_type": "code",
   "execution_count": 19,
   "metadata": {},
   "outputs": [
    {
     "data": {
      "image/png": "[encoded data removed]",
      "text/plain": [
       "<Figure size 432x288 with 1 Axes>"
      ]
     },
     "metadata": {
      "needs_background": "light"
     },
     "output_type": "display_data"
    }
   ],
   "source": [
    "# plot boxplot of Open-High-Low-Close prices of all time\n",
    "data_ohlc = data[['Open', 'High', 'Low', 'Close']]\n",
    "\n",
    "data_ohlc.boxplot(return_type='axes');"
   ]
  },
  {
   "cell_type": "code",
   "execution_count": 20,
   "metadata": {},
   "outputs": [
    {
     "data": {
      "image/png": "[encoded data removed]",
      "text/plain": [
       "<Figure size 432x288 with 1 Axes>"
      ]
     },
     "metadata": {
      "needs_background": "light"
     },
     "output_type": "display_data"
    }
   ],
   "source": [
    "# plot boxplot of OHLC prices for 2020\n",
    "data_ohlc_2020 = data[['Open', 'High', 'Low', 'Close']].loc['2020']\n",
    "\n",
    "data_ohlc_2020.boxplot(return_type='axes');"
   ]
  }
 ],
 "metadata": {
  "kernelspec": {
   "display_name": "Python 3",
   "language": "python",
   "name": "python3"
  },
  "language_info": {
   "codemirror_mode": {
    "name": "ipython",
    "version": 3
   },
   "file_extension": ".py",
   "mimetype": "text/x-python",
   "name": "python",
   "nbconvert_exporter": "python",
   "pygments_lexer": "ipython3",
   "version": "3.7.3"
  },
  "toc": {
   "base_numbering": 1,
   "nav_menu": {},
   "number_sections": true,
   "sideBar": true,
   "skip_h1_title": false,
   "title_cell": "Table of Contents",
   "title_sidebar": "Contents",
   "toc_cell": true,
   "toc_position": {},
   "toc_section_display": true,
   "toc_window_display": false
  },
  "varInspector": {
   "cols": {
    "lenName": 16,
    "lenType": 16,
    "lenVar": 40
   },
   "kernels_config": {
    "python": {
     "delete_cmd_postfix": "",
     "delete_cmd_prefix": "del ",
     "library": "var_list.py",
     "varRefreshCmd": "print(var_dic_list())"
    },
    "r": {
     "delete_cmd_postfix": ") ",
     "delete_cmd_prefix": "rm(",
     "library": "var_list.r",
     "varRefreshCmd": "cat(var_dic_list()) "
    }
   },
   "types_to_exclude": [
    "module",
    "function",
    "builtin_function_or_method",
    "instance",
    "_Feature"
   ],
   "window_display": false
  }
 },
 "nbformat": 4,
 "nbformat_minor": 2
}
